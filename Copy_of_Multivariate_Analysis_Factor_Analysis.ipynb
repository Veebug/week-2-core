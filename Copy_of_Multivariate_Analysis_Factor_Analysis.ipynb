{
  "nbformat": 4,
  "nbformat_minor": 0,
  "metadata": {
    "colab": {
      "name": "Copy of Multivariate Analysis: Factor Analysis",
      "provenance": [],
      "collapsed_sections": [
        "dV25HdgvCZuj",
        "IqiPtPgDMOWA"
      ]
    },
    "kernelspec": {
      "name": "python3",
      "display_name": "Python 3"
    }
  },
  "cells": [
    {
      "cell_type": "markdown",
      "metadata": {
        "id": "JFkefOSuLSlu"
      },
      "source": [
        "<font color=\"green\">*To start working on this notebook, or any other notebook that we will use in the Moringa Data Science Course, we will need to save our own copy of it. We can do this by clicking File > Save a Copy in Drive. We will then be able to make edits to our own copy of this notebook.*</font>"
      ]
    },
    {
      "cell_type": "markdown",
      "metadata": {
        "id": "zntUoyxUN4X1"
      },
      "source": [
        "# Multivariate Analysis with Python: Factor Analysis"
      ]
    },
    {
      "cell_type": "markdown",
      "metadata": {
        "id": "5XaygeJMAaC0"
      },
      "source": [
        "Factor Analysis (FA) is an exploratory data analysis method used to search influential underlying factors or latent variables from a set of observed variables. It helps in data interpretations by reducing the number of variables. It extracts maximum common variance from all variables and puts them into a common score.\n",
        "\n",
        "Factor analysis is widely utilized in market research, advertising, psychology, finance, and operation research. Market researchers use factor analysis to identify price-sensitive customers, identify brand features that influence consumer choice, and helps in understanding channel selection criteria for the distribution channel."
      ]
    },
    {
      "cell_type": "markdown",
      "metadata": {
        "id": "SdulA-n7AvYO"
      },
      "source": [
        "We performing factor analysis, we make the following assumptions:\n",
        "\n",
        "* There are no outliers in data.\n",
        "* Sample size should be greater than the factor.\n",
        "* There should not be perfect multicollinearity.\n",
        "* There should not be homoscedasticity between the variables.\n",
        "\n",
        "\n"
      ]
    },
    {
      "cell_type": "markdown",
      "metadata": {
        "id": "howFDtcrNqTy"
      },
      "source": [
        "**Kinds of Factor Analysis**\n",
        "\n",
        "There are broadly two kinds of factor analysis, Exploratory Factor Analysis (EFA) and Confirmatory Factor Analysis  (CFA). EFA is where the variables that are highly correlated to each other are grouped. This group is known as a ‘factor’. Once this factor is created, it looks for another set of variables and groups them, making another factor. The number of factors that are to be created depends on the analyst and N (number of observed variables) number of factors can be created (i.e. one factor for each observed variable). This N number is decided based on a number of factors."
      ]
    },
    {
      "cell_type": "markdown",
      "metadata": {
        "id": "AsVFdD86Nv6K"
      },
      "source": [
        "CFA is used when we already have an idea about what the latent variables are and which of the observed variables belong to which latent variable. For example, we have ten variables where five of them seems to be related to education such as – How important formal studies are to you? Are you satisfied with the current method of examination etc while the other set of variables clearly seems to be dealing with sports such as How important sports are, how satisfied are you with the current situation of sports training? etc. Here we can easily guess that there seems to be two latent variables, however, to prove this statistically, we require to perform hypothesis testing and this is where CFA helps."
      ]
    },
    {
      "cell_type": "markdown",
      "metadata": {
        "id": "Xn6K6MsCBN9A"
      },
      "source": [
        " **What is a factor?**\n",
        "\n",
        "A factor is a latent variable which describes the association among the number of observed variables. The maximum number of factors are equal to a number of observed variables. Every factor explains a certain variance in observed variables. The factors with the lowest amount of variance were dropped. Factors are also known as latent variables or hidden variables or unobserved variables or Hypothetical variables."
      ]
    },
    {
      "cell_type": "markdown",
      "metadata": {
        "id": "VAghYIi2N7WY"
      },
      "source": [
        "**What are the factor loadings?**\n",
        "\n",
        "The factor loading is a matrix which shows the relationship of each variable to the underlying factor. It shows the correlation coefficient for observed variable and factor. It shows the variance explained by the observed variables."
      ]
    },
    {
      "cell_type": "markdown",
      "metadata": {
        "id": "jYAeopw-N9Vv"
      },
      "source": [
        "**What is Eigenvalues?**\n",
        "\n",
        "Eigenvalues represent variance explained each factor from the total variance. It is also known as characteristic roots."
      ]
    },
    {
      "cell_type": "markdown",
      "metadata": {
        "id": "zSuRtKNUN_m8"
      },
      "source": [
        "**What are Communalities?**\n",
        "\n",
        "Commonalities are the sum of the squared loadings for each variable. It represents the common variance. It ranges from 0-1 and value close to 1 represents more variance."
      ]
    },
    {
      "cell_type": "markdown",
      "metadata": {
        "id": "4mwZNLDiOBbl"
      },
      "source": [
        "**What is Factor Rotation?**\n",
        "\n",
        "Rotation is a tool for better interpretation of factor analysis. Rotation can be orthogonal or oblique. It re-distributed the commonalities with a clear pattern of loadings."
      ]
    },
    {
      "cell_type": "markdown",
      "metadata": {
        "id": "kPNPc_tLBi4X"
      },
      "source": [
        "**Choosing the Number of Factors**\n",
        "\n",
        "Kaiser criterion is an analytical approach, which is based on the more significant proportion of variance explained by factor will be selected. The eigenvalue is a good criterion for determining the number of factors. Generally, an eigenvalue greater than 1 will be considered as selection criteria for the feature."
      ]
    },
    {
      "cell_type": "markdown",
      "metadata": {
        "id": "dV25HdgvCZuj"
      },
      "source": [
        "## Example "
      ]
    },
    {
      "cell_type": "code",
      "metadata": {
        "id": "gXgxm56zNzPJ"
      },
      "source": [
        "# Example 1\n",
        "# ---\n",
        "# Question 1: Perform Factor Analysis on BFI Dataset below\n",
        "# ---\n",
        "# Dataset url = http://bit.ly/BFI-Dataset\n",
        "# Dataste info: http://bit.ly/BFI-Dataset-Info\n",
        "# ---\n",
        "#"
      ],
      "execution_count": null,
      "outputs": []
    },
    {
      "cell_type": "code",
      "metadata": {
        "id": "-qdI7FLc0f8E"
      },
      "source": [
        "import pandas as pd\n",
        "import matplotlib.pyplot as plt\n"
      ],
      "execution_count": null,
      "outputs": []
    },
    {
      "cell_type": "code",
      "metadata": {
        "id": "ddNMDakSDCoI"
      },
      "source": [
        "# Step 1: Loading our Dataset\n",
        "# \n",
        "df= pd.read_csv(\"http://bit.ly/BFI-Dataset\")"
      ],
      "execution_count": null,
      "outputs": []
    },
    {
      "cell_type": "code",
      "metadata": {
        "id": "HDFb9KfRDvBi"
      },
      "source": [
        "# Step 2: Previewing the dataset columns\n",
        "# \n",
        "df.columns"
      ],
      "execution_count": null,
      "outputs": []
    },
    {
      "cell_type": "code",
      "metadata": {
        "id": "JEyh3AhO8EQ_"
      },
      "source": [
        "df.head()"
      ],
      "execution_count": null,
      "outputs": []
    },
    {
      "cell_type": "code",
      "metadata": {
        "id": "6Bj51l4eD7F5"
      },
      "source": [
        "# Step 3: Dropping unnecessary columns \n",
        "# \n",
        "df.drop(['gender', 'education', 'age'],axis=1,inplace=True)"
      ],
      "execution_count": null,
      "outputs": []
    },
    {
      "cell_type": "code",
      "metadata": {
        "id": "R_fArahCEGYh"
      },
      "source": [
        "# Step 4: Dropping missing values rows\n",
        "#\n",
        "df.dropna(inplace=True)"
      ],
      "execution_count": null,
      "outputs": []
    },
    {
      "cell_type": "code",
      "metadata": {
        "id": "OIYRdV6cEK5D"
      },
      "source": [
        "# Step 6: Checking the datatypes\n",
        "# \n",
        "df.info()"
      ],
      "execution_count": null,
      "outputs": []
    },
    {
      "cell_type": "code",
      "metadata": {
        "id": "oLGbmXTfERpT"
      },
      "source": [
        "# Step 7: Previewing our dataset\n",
        "# \n",
        "df.head()"
      ],
      "execution_count": null,
      "outputs": []
    },
    {
      "cell_type": "code",
      "metadata": {
        "id": "DW-sLapfHOzo"
      },
      "source": [
        "# Step 8: Adequacy Test\n",
        "# Before we perform factor analysis,weyou need to evaluate the “factorability” of our dataset. \n",
        "# Factorability means \"can we found the factors in the dataset?\". \n",
        "# There are two methods to check the factorability or sampling adequacy:\n",
        "# - Bartlett’s Test\n",
        "# - Kaiser-Meyer-Olkin Test\n",
        "# ---\n",
        "# Bartlett’s test of sphericity checks whether or not the observed variables intercorrelate at all \n",
        "# using the observed correlation matrix against the identity matrix. If the test found statistically insignificant, \n",
        "# we should not employ a factor analysis.\n",
        "# ---\n",
        "\n",
        "# Installing factor analyzer \n",
        "!pip install factor_analyzer==0.2.3\n",
        "\n",
        "from factor_analyzer.factor_analyzer import calculate_bartlett_sphericity\n",
        "\n",
        "chi_square_value,p_value=calculate_bartlett_sphericity(df)\n",
        "chi_square_value, p_value\n",
        "\n",
        "# In Bartlett ’s test, the p-value is 0. The test was statistically significant, \n",
        "# indicating that the observed correlation matrix is not an identity matrix."
      ],
      "execution_count": null,
      "outputs": []
    },
    {
      "cell_type": "code",
      "metadata": {
        "id": "CY_-OMt-IBSY"
      },
      "source": [
        "# Step 9:\n",
        "# Kaiser-Meyer-Olkin (KMO) Test measures the suitability of data for factor analysis. \n",
        "# It determines the adequacy for each observed variable and for the complete model. \n",
        "# KMO estimates the proportion of variance among all the observed variable. \n",
        "# Lower proportion id more suitable for factor analysis. KMO values range between 0 and 1. \n",
        "# Value of KMO less than 0.6 is considered inadequate.\n",
        "# \n",
        "from factor_analyzer.factor_analyzer import calculate_kmo\n",
        "\n",
        "kmo_all,kmo_model=calculate_kmo(df)\n",
        "\n",
        "# The overall KMO for our data is 0.84, which is excellent. \n",
        "# This value indicates that you can proceed with your planned factor analysis."
      ],
      "execution_count": null,
      "outputs": []
    },
    {
      "cell_type": "code",
      "metadata": {
        "id": "0ROMHcwpINWk"
      },
      "source": [
        "# Step 10: Choosing the Number of Factors\n",
        "# For choosing the number of factors, you can use the Kaiser criterion and scree plot. Both are based on eigenvalues.\n",
        "# \n",
        "from factor_analyzer.factor_analyzer import FactorAnalyzer\n",
        "\n",
        "# Creating factor analysis object and perform factor analysis\n",
        "fa = FactorAnalyzer()\n",
        "fa.analyze(df, 25, rotation=None)\n",
        "\n",
        "# Checking the Eigenvalues\n",
        "ev, v = fa.get_eigenvalues()\n",
        "ev\n",
        "\n",
        "# Here, we can see only for 6-factors eigenvalues are greater than one. \n",
        "# It means we need to choose only 6 factors (or unobserved variables)."
      ],
      "execution_count": null,
      "outputs": []
    },
    {
      "cell_type": "code",
      "metadata": {
        "id": "F8G2P3XCJ8oY"
      },
      "source": [
        "# Step 11: \n",
        "# The scree plot method draws a straight line for each factor and its eigenvalues. \n",
        "# Number eigenvalues greater than one considered as the number of factors.\n",
        "\n",
        "# Creating a scree plot using matplotlib\n",
        "#\n",
        "plt.scatter(range(1,df.shape[1]+1),ev)\n",
        "plt.plot(range(1,df.shape[1]+1),ev)\n",
        "plt.title('Scree Plot')\n",
        "plt.xlabel('Factors')\n",
        "plt.ylabel('Eigenvalue')\n",
        "plt.grid()\n",
        "plt.show()"
      ],
      "execution_count": null,
      "outputs": []
    },
    {
      "cell_type": "code",
      "metadata": {
        "id": "JHuRwmCvKPwV"
      },
      "source": [
        "# Step 12: Performing Factor Analysis\n",
        "# Creating factor analysis object and perform factor analysis\n",
        "#\n",
        "fa = FactorAnalyzer()\n",
        "fa.analyze(df, 6, rotation=\"varimax\")\n",
        "fa.loadings\n",
        "\n",
        "# We will note that\n",
        "# Factor 1 has high factor loadings for E1,E2,E3,E4, and E5 (Extraversion)\n",
        "# Factor 2 has high factor loadings for N1,N2,N3,N4, and N5 (Neuroticism)\n",
        "# Factor 3 has high factor loadings for C1,C2,C3,C4, and C5 (Conscientiousness)\n",
        "# Factor 4 has high factor loadings for O1,O2,O3,O4, and O5 (Opennness)\n",
        "# Factor 5 has high factor loadings for A1,A2,A3,A4, and A5 (Agreeableness)\n",
        "# Factor 6 has none of the high loagings for any variable and is not easily interpretable. Its good if we take only five factors."
      ],
      "execution_count": null,
      "outputs": []
    },
    {
      "cell_type": "code",
      "metadata": {
        "id": "w0zRMeTVKU0M"
      },
      "source": [
        "# Step 13: Performing factor analysis for 5 factors\n",
        "# \n",
        "# Create factor analysis object and perform factor analysis using 5 factors\n",
        "fa = FactorAnalyzer()\n",
        "fa.analyze(df, 5, rotation=\"varimax\")\n",
        "fa.loadings"
      ],
      "execution_count": null,
      "outputs": []
    },
    {
      "cell_type": "code",
      "metadata": {
        "id": "6Khz8S7ZKvjX"
      },
      "source": [
        "# Step 14: Getting variance of each factors\n",
        "# \n",
        "fa.get_factor_variance()\n",
        "\n",
        "# Noting total 42% cumulative Variance explained by the 5 factors."
      ],
      "execution_count": null,
      "outputs": []
    },
    {
      "cell_type": "markdown",
      "metadata": {
        "id": "9HH8kQywMHFr"
      },
      "source": [
        "**Pros and Cons of Factor Analysis**\n",
        "\n",
        "Factor analysis explores large datasets and finds interlinked associations. It reduces the observed variables into a few unobserved variables or identifies the groups of inter-related variables, which help the market researchers to compress the market situations and find the hidden relationship among consumer taste, preference, and cultural influence. Also, It helps in improve questionnaire in for future surveys. Factors make for more natural data interpretation.\n",
        "\n",
        "Results of factor analysis are controversial. Its interpretations can be debatable because more than one interpretation can be made of the same data factors. After factor identification and naming of factors requires domain knowledge."
      ]
    },
    {
      "cell_type": "markdown",
      "metadata": {
        "id": "IqiPtPgDMOWA"
      },
      "source": [
        "## <font color=\"green\">Challenges</font>"
      ]
    },
    {
      "cell_type": "code",
      "metadata": {
        "id": "tNw05seyMSac",
        "colab": {
          "base_uri": "https://localhost:8080/",
          "height": 850
        },
        "outputId": "0c8d5c53-af58-40c8-9820-93282d5278e9"
      },
      "source": [
        "# Challenge 1\n",
        "# ---\n",
        "# Question: Perform factor analysis on the following dataset\n",
        "# ---\n",
        "# Dataset \n",
        "#url = \"http://bit.ly/ZomatoDataset\"\n",
        "url=\"https://raw.githubusercontent.com/bhavneet03/Zomato_Dataset_Analysis/master/zomato.csv\"\n",
        "# ---\n",
        "# \n",
        "import pandas as pd\n",
        "\n",
        "zom=pd.read_csv(url)\n",
        "zom.columns()"
      ],
      "execution_count": null,
      "outputs": [
        {
          "output_type": "error",
          "ename": "UnicodeDecodeError",
          "evalue": "ignored",
          "traceback": [
            "\u001b[0;31m---------------------------------------------------------------------------\u001b[0m",
            "\u001b[0;31mUnicodeDecodeError\u001b[0m                        Traceback (most recent call last)",
            "\u001b[0;32mpandas/_libs/parsers.pyx\u001b[0m in \u001b[0;36mpandas._libs.parsers.TextReader._convert_tokens\u001b[0;34m()\u001b[0m\n",
            "\u001b[0;32mpandas/_libs/parsers.pyx\u001b[0m in \u001b[0;36mpandas._libs.parsers.TextReader._convert_with_dtype\u001b[0;34m()\u001b[0m\n",
            "\u001b[0;32mpandas/_libs/parsers.pyx\u001b[0m in \u001b[0;36mpandas._libs.parsers.TextReader._string_convert\u001b[0;34m()\u001b[0m\n",
            "\u001b[0;32mpandas/_libs/parsers.pyx\u001b[0m in \u001b[0;36mpandas._libs.parsers._string_box_utf8\u001b[0;34m()\u001b[0m\n",
            "\u001b[0;31mUnicodeDecodeError\u001b[0m: 'utf-8' codec can't decode byte 0xed in position 3: invalid continuation byte",
            "\nDuring handling of the above exception, another exception occurred:\n",
            "\u001b[0;31mUnicodeDecodeError\u001b[0m                        Traceback (most recent call last)",
            "\u001b[0;32m<ipython-input-6-065de41a9193>\u001b[0m in \u001b[0;36m<module>\u001b[0;34m()\u001b[0m\n\u001b[1;32m     10\u001b[0m \u001b[0;32mimport\u001b[0m \u001b[0mpandas\u001b[0m \u001b[0;32mas\u001b[0m \u001b[0mpd\u001b[0m\u001b[0;34m\u001b[0m\u001b[0;34m\u001b[0m\u001b[0m\n\u001b[1;32m     11\u001b[0m \u001b[0;34m\u001b[0m\u001b[0m\n\u001b[0;32m---> 12\u001b[0;31m \u001b[0mzom\u001b[0m\u001b[0;34m=\u001b[0m\u001b[0mpd\u001b[0m\u001b[0;34m.\u001b[0m\u001b[0mread_csv\u001b[0m\u001b[0;34m(\u001b[0m\u001b[0murl\u001b[0m\u001b[0;34m)\u001b[0m\u001b[0;34m\u001b[0m\u001b[0;34m\u001b[0m\u001b[0m\n\u001b[0m\u001b[1;32m     13\u001b[0m \u001b[0mzom\u001b[0m\u001b[0;34m.\u001b[0m\u001b[0mcolumns\u001b[0m\u001b[0;34m(\u001b[0m\u001b[0;34m)\u001b[0m\u001b[0;34m\u001b[0m\u001b[0;34m\u001b[0m\u001b[0m\n",
            "\u001b[0;32m/usr/local/lib/python3.7/dist-packages/pandas/io/parsers.py\u001b[0m in \u001b[0;36mread_csv\u001b[0;34m(filepath_or_buffer, sep, delimiter, header, names, index_col, usecols, squeeze, prefix, mangle_dupe_cols, dtype, engine, converters, true_values, false_values, skipinitialspace, skiprows, skipfooter, nrows, na_values, keep_default_na, na_filter, verbose, skip_blank_lines, parse_dates, infer_datetime_format, keep_date_col, date_parser, dayfirst, cache_dates, iterator, chunksize, compression, thousands, decimal, lineterminator, quotechar, quoting, doublequote, escapechar, comment, encoding, dialect, error_bad_lines, warn_bad_lines, delim_whitespace, low_memory, memory_map, float_precision)\u001b[0m\n\u001b[1;32m    686\u001b[0m     )\n\u001b[1;32m    687\u001b[0m \u001b[0;34m\u001b[0m\u001b[0m\n\u001b[0;32m--> 688\u001b[0;31m     \u001b[0;32mreturn\u001b[0m \u001b[0m_read\u001b[0m\u001b[0;34m(\u001b[0m\u001b[0mfilepath_or_buffer\u001b[0m\u001b[0;34m,\u001b[0m \u001b[0mkwds\u001b[0m\u001b[0;34m)\u001b[0m\u001b[0;34m\u001b[0m\u001b[0;34m\u001b[0m\u001b[0m\n\u001b[0m\u001b[1;32m    689\u001b[0m \u001b[0;34m\u001b[0m\u001b[0m\n\u001b[1;32m    690\u001b[0m \u001b[0;34m\u001b[0m\u001b[0m\n",
            "\u001b[0;32m/usr/local/lib/python3.7/dist-packages/pandas/io/parsers.py\u001b[0m in \u001b[0;36m_read\u001b[0;34m(filepath_or_buffer, kwds)\u001b[0m\n\u001b[1;32m    458\u001b[0m \u001b[0;34m\u001b[0m\u001b[0m\n\u001b[1;32m    459\u001b[0m     \u001b[0;32mtry\u001b[0m\u001b[0;34m:\u001b[0m\u001b[0;34m\u001b[0m\u001b[0;34m\u001b[0m\u001b[0m\n\u001b[0;32m--> 460\u001b[0;31m         \u001b[0mdata\u001b[0m \u001b[0;34m=\u001b[0m \u001b[0mparser\u001b[0m\u001b[0;34m.\u001b[0m\u001b[0mread\u001b[0m\u001b[0;34m(\u001b[0m\u001b[0mnrows\u001b[0m\u001b[0;34m)\u001b[0m\u001b[0;34m\u001b[0m\u001b[0;34m\u001b[0m\u001b[0m\n\u001b[0m\u001b[1;32m    461\u001b[0m     \u001b[0;32mfinally\u001b[0m\u001b[0;34m:\u001b[0m\u001b[0;34m\u001b[0m\u001b[0;34m\u001b[0m\u001b[0m\n\u001b[1;32m    462\u001b[0m         \u001b[0mparser\u001b[0m\u001b[0;34m.\u001b[0m\u001b[0mclose\u001b[0m\u001b[0;34m(\u001b[0m\u001b[0;34m)\u001b[0m\u001b[0;34m\u001b[0m\u001b[0;34m\u001b[0m\u001b[0m\n",
            "\u001b[0;32m/usr/local/lib/python3.7/dist-packages/pandas/io/parsers.py\u001b[0m in \u001b[0;36mread\u001b[0;34m(self, nrows)\u001b[0m\n\u001b[1;32m   1196\u001b[0m     \u001b[0;32mdef\u001b[0m \u001b[0mread\u001b[0m\u001b[0;34m(\u001b[0m\u001b[0mself\u001b[0m\u001b[0;34m,\u001b[0m \u001b[0mnrows\u001b[0m\u001b[0;34m=\u001b[0m\u001b[0;32mNone\u001b[0m\u001b[0;34m)\u001b[0m\u001b[0;34m:\u001b[0m\u001b[0;34m\u001b[0m\u001b[0;34m\u001b[0m\u001b[0m\n\u001b[1;32m   1197\u001b[0m         \u001b[0mnrows\u001b[0m \u001b[0;34m=\u001b[0m \u001b[0m_validate_integer\u001b[0m\u001b[0;34m(\u001b[0m\u001b[0;34m\"nrows\"\u001b[0m\u001b[0;34m,\u001b[0m \u001b[0mnrows\u001b[0m\u001b[0;34m)\u001b[0m\u001b[0;34m\u001b[0m\u001b[0;34m\u001b[0m\u001b[0m\n\u001b[0;32m-> 1198\u001b[0;31m         \u001b[0mret\u001b[0m \u001b[0;34m=\u001b[0m \u001b[0mself\u001b[0m\u001b[0;34m.\u001b[0m\u001b[0m_engine\u001b[0m\u001b[0;34m.\u001b[0m\u001b[0mread\u001b[0m\u001b[0;34m(\u001b[0m\u001b[0mnrows\u001b[0m\u001b[0;34m)\u001b[0m\u001b[0;34m\u001b[0m\u001b[0;34m\u001b[0m\u001b[0m\n\u001b[0m\u001b[1;32m   1199\u001b[0m \u001b[0;34m\u001b[0m\u001b[0m\n\u001b[1;32m   1200\u001b[0m         \u001b[0;31m# May alter columns / col_dict\u001b[0m\u001b[0;34m\u001b[0m\u001b[0;34m\u001b[0m\u001b[0;34m\u001b[0m\u001b[0m\n",
            "\u001b[0;32m/usr/local/lib/python3.7/dist-packages/pandas/io/parsers.py\u001b[0m in \u001b[0;36mread\u001b[0;34m(self, nrows)\u001b[0m\n\u001b[1;32m   2155\u001b[0m     \u001b[0;32mdef\u001b[0m \u001b[0mread\u001b[0m\u001b[0;34m(\u001b[0m\u001b[0mself\u001b[0m\u001b[0;34m,\u001b[0m \u001b[0mnrows\u001b[0m\u001b[0;34m=\u001b[0m\u001b[0;32mNone\u001b[0m\u001b[0;34m)\u001b[0m\u001b[0;34m:\u001b[0m\u001b[0;34m\u001b[0m\u001b[0;34m\u001b[0m\u001b[0m\n\u001b[1;32m   2156\u001b[0m         \u001b[0;32mtry\u001b[0m\u001b[0;34m:\u001b[0m\u001b[0;34m\u001b[0m\u001b[0;34m\u001b[0m\u001b[0m\n\u001b[0;32m-> 2157\u001b[0;31m             \u001b[0mdata\u001b[0m \u001b[0;34m=\u001b[0m \u001b[0mself\u001b[0m\u001b[0;34m.\u001b[0m\u001b[0m_reader\u001b[0m\u001b[0;34m.\u001b[0m\u001b[0mread\u001b[0m\u001b[0;34m(\u001b[0m\u001b[0mnrows\u001b[0m\u001b[0;34m)\u001b[0m\u001b[0;34m\u001b[0m\u001b[0;34m\u001b[0m\u001b[0m\n\u001b[0m\u001b[1;32m   2158\u001b[0m         \u001b[0;32mexcept\u001b[0m \u001b[0mStopIteration\u001b[0m\u001b[0;34m:\u001b[0m\u001b[0;34m\u001b[0m\u001b[0;34m\u001b[0m\u001b[0m\n\u001b[1;32m   2159\u001b[0m             \u001b[0;32mif\u001b[0m \u001b[0mself\u001b[0m\u001b[0;34m.\u001b[0m\u001b[0m_first_chunk\u001b[0m\u001b[0;34m:\u001b[0m\u001b[0;34m\u001b[0m\u001b[0;34m\u001b[0m\u001b[0m\n",
            "\u001b[0;32mpandas/_libs/parsers.pyx\u001b[0m in \u001b[0;36mpandas._libs.parsers.TextReader.read\u001b[0;34m()\u001b[0m\n",
            "\u001b[0;32mpandas/_libs/parsers.pyx\u001b[0m in \u001b[0;36mpandas._libs.parsers.TextReader._read_low_memory\u001b[0;34m()\u001b[0m\n",
            "\u001b[0;32mpandas/_libs/parsers.pyx\u001b[0m in \u001b[0;36mpandas._libs.parsers.TextReader._read_rows\u001b[0;34m()\u001b[0m\n",
            "\u001b[0;32mpandas/_libs/parsers.pyx\u001b[0m in \u001b[0;36mpandas._libs.parsers.TextReader._convert_column_data\u001b[0;34m()\u001b[0m\n",
            "\u001b[0;32mpandas/_libs/parsers.pyx\u001b[0m in \u001b[0;36mpandas._libs.parsers.TextReader._convert_tokens\u001b[0;34m()\u001b[0m\n",
            "\u001b[0;32mpandas/_libs/parsers.pyx\u001b[0m in \u001b[0;36mpandas._libs.parsers.TextReader._convert_with_dtype\u001b[0;34m()\u001b[0m\n",
            "\u001b[0;32mpandas/_libs/parsers.pyx\u001b[0m in \u001b[0;36mpandas._libs.parsers.TextReader._string_convert\u001b[0;34m()\u001b[0m\n",
            "\u001b[0;32mpandas/_libs/parsers.pyx\u001b[0m in \u001b[0;36mpandas._libs.parsers._string_box_utf8\u001b[0;34m()\u001b[0m\n",
            "\u001b[0;31mUnicodeDecodeError\u001b[0m: 'utf-8' codec can't decode byte 0xed in position 3: invalid continuation byte"
          ]
        }
      ]
    },
    {
      "cell_type": "code",
      "metadata": {
        "id": "XOAcYzrPMTlF"
      },
      "source": [
        "# Challenge 2\n",
        "# ---\n",
        "# Question: Perform factor analysis on the following dataset\n",
        "# ---\n",
        "# Dataset url = http://bit.ly/FIFADataset\n",
        "# ---\n",
        "#\n",
        "fifa=pd.read_csv(\"http://bit.ly/FIFADataset\")\n",
        "fifa.columns"
      ],
      "execution_count": null,
      "outputs": []
    },
    {
      "cell_type": "code",
      "metadata": {
        "id": "n9dClCRr5pJv"
      },
      "source": [
        "#adequacy test\n",
        "chi_square_value,p_value=calculate_bartlett_sphericity(fifa)\n",
        "chi_square_value, p_value"
      ],
      "execution_count": null,
      "outputs": []
    },
    {
      "cell_type": "code",
      "metadata": {
        "id": "8EJleq-V51gX"
      },
      "source": [
        "# Kaiser-Meyer-Olkin (KMO) Test measures the suitability of data for factor analysis. \n",
        "# \n",
        "from factor_analyzer.factor_analyzer import calculate_kmo\n",
        "\n",
        "kmo_all,kmo_model=calculate_kmo(fifa)"
      ],
      "execution_count": null,
      "outputs": []
    },
    {
      "cell_type": "code",
      "metadata": {
        "id": "c5O_vGp96Hi_"
      },
      "source": [
        "#choosing no. of factors\n",
        "# Creating factor analysis object and perform factor analysis\n",
        "fa = FactorAnalyzer()\n",
        "fa.analyze(fifa, 5, rotation=None)\n",
        "\n",
        "# Checking the Eigenvalues\n",
        "ev, v = fa.get_eigenvalues()\n",
        "ev\n",
        "# 2 factors>1, hence we only choose 2 factors\n"
      ],
      "execution_count": null,
      "outputs": []
    },
    {
      "cell_type": "code",
      "metadata": {
        "id": "pUxfxIim6sux"
      },
      "source": [
        "# Step 11: \n",
        "# The scree plot method draws a straight line for each factor and its eigenvalues. \n",
        "# Number eigenvalues greater than one considered as the number of factors.\n",
        "\n",
        "# Creating a scree plot using matplotlib\n",
        "#\n",
        "plt.scatter(range(1,fifa.shape[1]+1),ev)\n",
        "plt.plot(range(1,fifa.shape[1]+1),ev)\n",
        "plt.title('Scree Plot')\n",
        "plt.xlabel('Factors')\n",
        "plt.ylabel('Eigenvalue')\n",
        "plt.grid()\n",
        "plt.show()"
      ],
      "execution_count": null,
      "outputs": []
    },
    {
      "cell_type": "code",
      "metadata": {
        "id": "_rPoPcCF6_rK"
      },
      "source": [
        "# Step 12: Performing Factor Analysis\n",
        "# Creating factor analysis object and perform factor analysis\n",
        "#\n",
        "fa = FactorAnalyzer()\n",
        "fa.analyze(fifa, 2, rotation=\"varimax\")\n",
        "fa.loadings"
      ],
      "execution_count": null,
      "outputs": []
    },
    {
      "cell_type": "code",
      "metadata": {
        "id": "Koy2s6oa7S3A"
      },
      "source": [
        "# Step 13: Performing factor analysis for 2 factors\n",
        "# \n",
        "# Create factor analysis object and perform factor analysis using 5 factors\n",
        "fa = FactorAnalyzer()\n",
        "fa.analyze(fifa, 2, rotation=\"varimax\")\n",
        "fa.loadings"
      ],
      "execution_count": null,
      "outputs": []
    },
    {
      "cell_type": "code",
      "metadata": {
        "id": "rl_ihZXo7hX4"
      },
      "source": [
        "# Step 14: Getting variance of each factors\n",
        "# \n",
        "fa.get_factor_variance()\n"
      ],
      "execution_count": null,
      "outputs": []
    },
    {
      "cell_type": "code",
      "metadata": {
        "id": "zemji7gpMUmJ"
      },
      "source": [
        "# Challenge 3\n",
        "# ---\n",
        "# Question: Perform factor analysis on the following dataset\n",
        "# ---\n",
        "# Dataset url = http://bit.ly/StudentsAlcoholGradesDataset\n",
        "# Dataset info = http://bit.ly/StudentsAlcoholGradesDatasetInfo\n",
        "#\n",
        "alcohol=pd.read_csv(\"http://bit.ly/StudentsAlcoholGradesDataset\")\n",
        "alcohol.columns\n",
        "alcohol.head()"
      ],
      "execution_count": null,
      "outputs": []
    },
    {
      "cell_type": "code",
      "metadata": {
        "id": "aCFu6NuO8NbQ"
      },
      "source": [
        "alcohol.drop(['school', 'sex', 'address','famsize','Pstatus','Mjob','Fjob','reason','guardian','schoolsup','famsup','paid','activities','nursery','higher','internet','romantic'],axis=1,inplace=True)\n",
        "alcohol.dropna(inplace=True)"
      ],
      "execution_count": null,
      "outputs": []
    },
    {
      "cell_type": "code",
      "metadata": {
        "id": "hsdlChEkPyWX"
      },
      "source": [
        "#adequacy test\n",
        "from factor_analyzer.factor_analyzer import calculate_bartlett_sphericity\n",
        "\n",
        "chi_square_value,p_value=calculate_bartlett_sphericity(alcohol)\n",
        "chi_square_value, p_value"
      ],
      "execution_count": null,
      "outputs": []
    },
    {
      "cell_type": "code",
      "metadata": {
        "id": "6zruqSVdQT35"
      },
      "source": [
        "# Kaiser-Meyer-Olkin (KMO) Test measures the suitability of data for factor analysis. \n",
        "# \n",
        "from factor_analyzer.factor_analyzer import calculate_kmo\n",
        "\n",
        "kmo_all,kmo_model=calculate_kmo(alcohol)"
      ],
      "execution_count": null,
      "outputs": []
    },
    {
      "cell_type": "code",
      "metadata": {
        "id": "UdzHBc5RQd6M"
      },
      "source": [
        "#choosing no. of factors\n",
        "# Creating factor analysis object and perform factor analysis\n",
        "fa = FactorAnalyzer()\n",
        "fa.analyze(alcohol, 10, rotation=None)\n",
        "\n",
        "# Checking the Eigenvalues\n",
        "ev, v = fa.get_eigenvalues()\n",
        "ev\n",
        "# 6 factors>1, hence we only choose 6 factors"
      ],
      "execution_count": null,
      "outputs": []
    },
    {
      "cell_type": "code",
      "metadata": {
        "id": "2kTTZLVKQsjs"
      },
      "source": [
        "# Step 11: \n",
        "# The scree plot method draws a straight line for each factor and its eigenvalues. \n",
        "# Number eigenvalues greater than one considered as the number of factors.\n",
        "\n",
        "# Creating a scree plot using matplotlib\n",
        "#\n",
        "plt.scatter(range(1,alcohol.shape[1]+1),ev)\n",
        "plt.plot(range(1,alcohol.shape[1]+1),ev)\n",
        "plt.title('Scree Plot')\n",
        "plt.xlabel('Factors')\n",
        "plt.ylabel('Eigenvalue')\n",
        "plt.grid()\n",
        "plt.show()"
      ],
      "execution_count": null,
      "outputs": []
    },
    {
      "cell_type": "code",
      "metadata": {
        "id": "OCHTMT20Q8La"
      },
      "source": [
        "# Step 12: Performing Factor Analysis\n",
        "# Creating factor analysis object and perform factor analysis\n",
        "#\n",
        "fa = FactorAnalyzer()\n",
        "fa.analyze(alcohol, 6, rotation=\"varimax\")\n",
        "fa.loadings"
      ],
      "execution_count": null,
      "outputs": []
    },
    {
      "cell_type": "code",
      "metadata": {
        "id": "vEEU6cW8RRVO"
      },
      "source": [
        "# Step 14: Getting variance of each factors\n",
        "# \n",
        "fa.get_factor_variance()"
      ],
      "execution_count": null,
      "outputs": []
    }
  ]
}