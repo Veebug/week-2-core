{
  "nbformat": 4,
  "nbformat_minor": 0,
  "metadata": {
    "colab": {
      "name": "Copy of Multivariate Analysis: Principal Component Analysis",
      "provenance": [],
      "collapsed_sections": [
        "4Vu7ecaQWf_7",
        "XW3_wR1Vb03N"
      ]
    },
    "kernelspec": {
      "display_name": "Python 3",
      "name": "python3"
    }
  },
  "cells": [
    {
      "cell_type": "markdown",
      "metadata": {
        "id": "DqjbDzSIKTd_"
      },
      "source": [
        "<font color=\"green\">*To start working on this notebook, or any other notebook that we will use in the Moringa Data Science Course, we will need to save our own copy of it. We can do this by clicking File > Save a Copy in Drive. We will then be able to make edits to our own copy of this notebook.*</font>"
      ]
    },
    {
      "cell_type": "markdown",
      "metadata": {
        "id": "3maIRH9kSonB"
      },
      "source": [
        "# Multivariate Analysis: Principal Component Analysis"
      ]
    },
    {
      "cell_type": "markdown",
      "metadata": {
        "id": "L9DvTjp9WkOX"
      },
      "source": [
        "With the availability of high performance CPUs and GPUs, it is pretty much possible to solve every regression, classification, clustering and other related problems using machine learning and deep learning models. However, there are still various factors that cause performance bottlenecks while developing such models. Large number of features in the dataset is one of the factors that affect both the training time as well as accuracy of machine learning models. You have different options to deal with huge number of features in a dataset.\n",
        "\n",
        "* Try to train the models on original number of features, which take days or weeks if the number of features is too high.\n",
        "* Reduce the number of variables by merging correlated variables.\n",
        "* Extract the most important features from the dataset that are responsible for maximum variance in the output. Different statistical techniques are used for this purpose e.g. linear discriminant analysis, factor analysis, and principal component analysis.\n",
        "\n",
        "Principal component analysis, or PCA, is a statistical technique to convert high dimensional data to low dimensional data by selecting the most important features that capture maximum information about the dataset. The features are selected on the basis of variance that they cause in the output. The feature that causes highest variance is the first principal component. The feature that is responsible for second highest variance is considered the second principal component, and so on. It is important to mention that principal components do not have any correlation with each other.\n",
        "\n",
        "**Advantages of PCA**\n",
        "\n",
        "There are two main advantages of dimensionality reduction with PCA.\n",
        "\n",
        "* The training time of the algorithms reduces significantly with less number of features.\n",
        "* It is not always possible to analyze data in high dimensions. For instance if there are 100 features in a dataset. Total number of scatter plots required to visualize the data would be 100(100-1)2 = 4950. Practically it is not possible to analyze data this way.\n",
        "\n",
        "\n",
        "**Normalization of Features**\n",
        "\n",
        "It is imperative to mention that a feature set must be normalized before applying PCA. For instance if a feature set has data expressed in units of Kilograms, Light years, or Millions, the variance scale is huge in the training set. If PCA is applied on such a feature set, the resultant loadings for features with high variance will also be large. Hence, principal components will be biased towards features with high variance, leading to false results.\n",
        "\n",
        "Finally, the last point to remember before we start coding is that PCA is a statistical technique and can only be applied to numeric data. Therefore, categorical features are required to be converted into numerical features before PCA can be applied.\n",
        "\n",
        "Let's now implement PCA with the help of Python's Scikit-Learn library. We will follow the classic machine learning pipeline where we will first import libraries and dataset, perform exploratory data analysis and preprocessing, and finally train our models, make predictions and evaluate accuracies. The only additional step will be to perform PCA to find out optimal number of features before we train our models. These steps have been implemented as follows:"
      ]
    },
    {
      "cell_type": "markdown",
      "metadata": {
        "id": "4Vu7ecaQWf_7"
      },
      "source": [
        "### Example 1"
      ]
    },
    {
      "cell_type": "code",
      "metadata": {
        "id": "RWzQXfobSjkX"
      },
      "source": [
        "# Step 1: Importing Libraries\n",
        "import pandas as pd\n",
        "import numpy as np\n",
        "import matplotlib.pyplot as plt\n",
        "import seaborn as sns\n",
        "\n",
        "sns.set_style()\n",
        "url = \"https://archive.ics.uci.edu/ml/machine-learning-databases/iris/iris.data\"\n",
        "names = ['sepal-length', 'sepal-width', 'petal-length', 'petal-width', 'Class']\n",
        "dataset = pd.read_csv(url, names=names)"
      ],
      "execution_count": null,
      "outputs": []
    },
    {
      "cell_type": "code",
      "metadata": {
        "colab": {
          "base_uri": "https://localhost:8080/",
          "height": 204
        },
        "id": "xbza6CLaXqtj",
        "outputId": "c35bd14f-79b3-4892-aa79-374d6ada35df"
      },
      "source": [
        "# Step 2: Let's take a look at what our dataset looks like:\n",
        "#\n",
        "dataset.head()"
      ],
      "execution_count": null,
      "outputs": [
        {
          "data": {
            "text/html": [
              "<div>\n",
              "<style scoped>\n",
              "    .dataframe tbody tr th:only-of-type {\n",
              "        vertical-align: middle;\n",
              "    }\n",
              "\n",
              "    .dataframe tbody tr th {\n",
              "        vertical-align: top;\n",
              "    }\n",
              "\n",
              "    .dataframe thead th {\n",
              "        text-align: right;\n",
              "    }\n",
              "</style>\n",
              "<table border=\"1\" class=\"dataframe\">\n",
              "  <thead>\n",
              "    <tr style=\"text-align: right;\">\n",
              "      <th></th>\n",
              "      <th>sepal-length</th>\n",
              "      <th>sepal-width</th>\n",
              "      <th>petal-length</th>\n",
              "      <th>petal-width</th>\n",
              "      <th>Class</th>\n",
              "    </tr>\n",
              "  </thead>\n",
              "  <tbody>\n",
              "    <tr>\n",
              "      <th>0</th>\n",
              "      <td>5.1</td>\n",
              "      <td>3.5</td>\n",
              "      <td>1.4</td>\n",
              "      <td>0.2</td>\n",
              "      <td>Iris-setosa</td>\n",
              "    </tr>\n",
              "    <tr>\n",
              "      <th>1</th>\n",
              "      <td>4.9</td>\n",
              "      <td>3.0</td>\n",
              "      <td>1.4</td>\n",
              "      <td>0.2</td>\n",
              "      <td>Iris-setosa</td>\n",
              "    </tr>\n",
              "    <tr>\n",
              "      <th>2</th>\n",
              "      <td>4.7</td>\n",
              "      <td>3.2</td>\n",
              "      <td>1.3</td>\n",
              "      <td>0.2</td>\n",
              "      <td>Iris-setosa</td>\n",
              "    </tr>\n",
              "    <tr>\n",
              "      <th>3</th>\n",
              "      <td>4.6</td>\n",
              "      <td>3.1</td>\n",
              "      <td>1.5</td>\n",
              "      <td>0.2</td>\n",
              "      <td>Iris-setosa</td>\n",
              "    </tr>\n",
              "    <tr>\n",
              "      <th>4</th>\n",
              "      <td>5.0</td>\n",
              "      <td>3.6</td>\n",
              "      <td>1.4</td>\n",
              "      <td>0.2</td>\n",
              "      <td>Iris-setosa</td>\n",
              "    </tr>\n",
              "  </tbody>\n",
              "</table>\n",
              "</div>"
            ],
            "text/plain": [
              "   sepal-length  sepal-width  petal-length  petal-width        Class\n",
              "0           5.1          3.5           1.4          0.2  Iris-setosa\n",
              "1           4.9          3.0           1.4          0.2  Iris-setosa\n",
              "2           4.7          3.2           1.3          0.2  Iris-setosa\n",
              "3           4.6          3.1           1.5          0.2  Iris-setosa\n",
              "4           5.0          3.6           1.4          0.2  Iris-setosa"
            ]
          },
          "execution_count": 18,
          "metadata": {},
          "output_type": "execute_result"
        }
      ]
    },
    {
      "cell_type": "code",
      "metadata": {
        "colab": {
          "base_uri": "https://localhost:8080/",
          "height": 419
        },
        "id": "BfM8zyTMXwP5",
        "outputId": "492a05fd-72a3-43ea-8e19-badad465f760"
      },
      "source": [
        "# Step 3: Preprocessing\n",
        "# The first preprocessing step is to divide the dataset into a feature set and corresponding labels. \n",
        "# The following script performs this task. The script below stores the feature sets into the X variable \n",
        "# and the series of corresponding labels in to the y variable.\n",
        "# \n",
        "X = dataset.drop('Class', 1)\n",
        "y = dataset['Class']\n",
        "X"
      ],
      "execution_count": null,
      "outputs": [
        {
          "data": {
            "text/html": [
              "<div>\n",
              "<style scoped>\n",
              "    .dataframe tbody tr th:only-of-type {\n",
              "        vertical-align: middle;\n",
              "    }\n",
              "\n",
              "    .dataframe tbody tr th {\n",
              "        vertical-align: top;\n",
              "    }\n",
              "\n",
              "    .dataframe thead th {\n",
              "        text-align: right;\n",
              "    }\n",
              "</style>\n",
              "<table border=\"1\" class=\"dataframe\">\n",
              "  <thead>\n",
              "    <tr style=\"text-align: right;\">\n",
              "      <th></th>\n",
              "      <th>sepal-length</th>\n",
              "      <th>sepal-width</th>\n",
              "      <th>petal-length</th>\n",
              "      <th>petal-width</th>\n",
              "    </tr>\n",
              "  </thead>\n",
              "  <tbody>\n",
              "    <tr>\n",
              "      <th>0</th>\n",
              "      <td>5.1</td>\n",
              "      <td>3.5</td>\n",
              "      <td>1.4</td>\n",
              "      <td>0.2</td>\n",
              "    </tr>\n",
              "    <tr>\n",
              "      <th>1</th>\n",
              "      <td>4.9</td>\n",
              "      <td>3.0</td>\n",
              "      <td>1.4</td>\n",
              "      <td>0.2</td>\n",
              "    </tr>\n",
              "    <tr>\n",
              "      <th>2</th>\n",
              "      <td>4.7</td>\n",
              "      <td>3.2</td>\n",
              "      <td>1.3</td>\n",
              "      <td>0.2</td>\n",
              "    </tr>\n",
              "    <tr>\n",
              "      <th>3</th>\n",
              "      <td>4.6</td>\n",
              "      <td>3.1</td>\n",
              "      <td>1.5</td>\n",
              "      <td>0.2</td>\n",
              "    </tr>\n",
              "    <tr>\n",
              "      <th>4</th>\n",
              "      <td>5.0</td>\n",
              "      <td>3.6</td>\n",
              "      <td>1.4</td>\n",
              "      <td>0.2</td>\n",
              "    </tr>\n",
              "    <tr>\n",
              "      <th>...</th>\n",
              "      <td>...</td>\n",
              "      <td>...</td>\n",
              "      <td>...</td>\n",
              "      <td>...</td>\n",
              "    </tr>\n",
              "    <tr>\n",
              "      <th>145</th>\n",
              "      <td>6.7</td>\n",
              "      <td>3.0</td>\n",
              "      <td>5.2</td>\n",
              "      <td>2.3</td>\n",
              "    </tr>\n",
              "    <tr>\n",
              "      <th>146</th>\n",
              "      <td>6.3</td>\n",
              "      <td>2.5</td>\n",
              "      <td>5.0</td>\n",
              "      <td>1.9</td>\n",
              "    </tr>\n",
              "    <tr>\n",
              "      <th>147</th>\n",
              "      <td>6.5</td>\n",
              "      <td>3.0</td>\n",
              "      <td>5.2</td>\n",
              "      <td>2.0</td>\n",
              "    </tr>\n",
              "    <tr>\n",
              "      <th>148</th>\n",
              "      <td>6.2</td>\n",
              "      <td>3.4</td>\n",
              "      <td>5.4</td>\n",
              "      <td>2.3</td>\n",
              "    </tr>\n",
              "    <tr>\n",
              "      <th>149</th>\n",
              "      <td>5.9</td>\n",
              "      <td>3.0</td>\n",
              "      <td>5.1</td>\n",
              "      <td>1.8</td>\n",
              "    </tr>\n",
              "  </tbody>\n",
              "</table>\n",
              "<p>150 rows × 4 columns</p>\n",
              "</div>"
            ],
            "text/plain": [
              "     sepal-length  sepal-width  petal-length  petal-width\n",
              "0             5.1          3.5           1.4          0.2\n",
              "1             4.9          3.0           1.4          0.2\n",
              "2             4.7          3.2           1.3          0.2\n",
              "3             4.6          3.1           1.5          0.2\n",
              "4             5.0          3.6           1.4          0.2\n",
              "..            ...          ...           ...          ...\n",
              "145           6.7          3.0           5.2          2.3\n",
              "146           6.3          2.5           5.0          1.9\n",
              "147           6.5          3.0           5.2          2.0\n",
              "148           6.2          3.4           5.4          2.3\n",
              "149           5.9          3.0           5.1          1.8\n",
              "\n",
              "[150 rows x 4 columns]"
            ]
          },
          "execution_count": 19,
          "metadata": {},
          "output_type": "execute_result"
        }
      ]
    },
    {
      "cell_type": "code",
      "metadata": {
        "id": "uLFSJjW4YCzf"
      },
      "source": [
        "# Step 4: Splitting the dataset into the Training set and Test set\n",
        "# The next preprocessing step is to divide data into training and test sets. \n",
        "# We execute the following script to do so:\n",
        "#\n",
        "from sklearn.model_selection import train_test_split\n",
        "\n",
        "X_train, X_test, y_train, y_test = train_test_split(X, y, test_size=0.2, random_state=0)"
      ],
      "execution_count": null,
      "outputs": []
    },
    {
      "cell_type": "code",
      "metadata": {
        "colab": {
          "base_uri": "https://localhost:8080/"
        },
        "id": "AwnjYgdxYLhP",
        "outputId": "e7789e6b-357b-4972-de0b-c46175fee9e2"
      },
      "source": [
        "# Step 5: Normalization\n",
        "# As mentioned earlier, PCA performs best with a normalized feature set. \n",
        "# We will perform standard scalar normalization to normalize our feature set. \n",
        "# To do this, we execute the following code:\n",
        "# \n",
        "from sklearn.preprocessing import StandardScaler\n",
        "\n",
        "sc = StandardScaler()\n",
        "X_train = sc.fit_transform(X_train)\n",
        "X_test = sc.transform(X_test)\n",
        "X_train"
      ],
      "execution_count": null,
      "outputs": [
        {
          "data": {
            "text/plain": [
              "array([[ 0.61303014,  0.10850105,  0.94751783,  0.73603967],\n",
              "       [-0.56776627, -0.12400121,  0.38491447,  0.34808318],\n",
              "       [-0.80392556,  1.03851009, -1.30289562, -1.3330616 ],\n",
              "       [ 0.25879121, -0.12400121,  0.60995581,  0.73603967],\n",
              "       [ 0.61303014, -0.58900572,  1.00377816,  1.25331499],\n",
              "       [-0.80392556, -0.82150798,  0.04735245,  0.21876435],\n",
              "       [-0.21352735,  1.73601687, -1.19037495, -1.20374277],\n",
              "       [ 0.14071157, -0.82150798,  0.72247648,  0.47740201],\n",
              "       [ 0.02263193, -0.12400121,  0.21613346,  0.34808318],\n",
              "       [-0.09544771, -1.05401024,  0.10361279, -0.03987331],\n",
              "       [ 1.0853487 , -0.12400121,  0.94751783,  1.12399616],\n",
              "       [-1.39432376,  0.34100331, -1.41541629, -1.3330616 ],\n",
              "       [ 1.20342834,  0.10850105,  0.72247648,  1.38263382],\n",
              "       [-1.04008484,  1.03851009, -1.24663528, -0.81578628],\n",
              "       [-0.56776627,  1.50351461, -1.30289562, -1.3330616 ],\n",
              "       [-1.04008484, -2.4490238 , -0.1776889 , -0.29851096],\n",
              "       [ 0.73110978, -0.12400121,  0.94751783,  0.73603967],\n",
              "       [ 0.96726906,  0.57350557,  1.0600385 ,  1.64127148],\n",
              "       [ 0.14071157, -1.98401928,  0.66621615,  0.34808318],\n",
              "       [ 0.96726906, -1.2865125 ,  1.11629884,  0.73603967],\n",
              "       [-0.33160699, -1.2865125 ,  0.04735245, -0.16919214],\n",
              "       [ 2.14806547, -0.12400121,  1.28507985,  1.38263382],\n",
              "       [ 0.49495049,  0.57350557,  0.49743514,  0.47740201],\n",
              "       [-0.44968663, -1.51901476, -0.00890789, -0.16919214],\n",
              "       [ 0.49495049, -0.82150798,  0.60995581,  0.73603967],\n",
              "       [ 0.49495049, -0.58900572,  0.72247648,  0.34808318],\n",
              "       [-1.15816448, -1.2865125 ,  0.38491447,  0.60672084],\n",
              "       [ 0.49495049, -1.2865125 ,  0.66621615,  0.8653585 ],\n",
              "       [ 1.32150798,  0.34100331,  0.49743514,  0.21876435],\n",
              "       [ 0.73110978, -0.12400121,  0.77873682,  0.99467733],\n",
              "       [ 0.14071157,  0.80600783,  0.38491447,  0.47740201],\n",
              "       [-1.27624412,  0.10850105, -1.24663528, -1.3330616 ],\n",
              "       [-0.09544771, -0.82150798,  0.72247648,  0.8653585 ],\n",
              "       [-0.33160699, -0.82150798,  0.21613346,  0.08944552],\n",
              "       [-0.33160699, -0.35650346, -0.12142856,  0.08944552],\n",
              "       [-0.44968663, -1.2865125 ,  0.10361279,  0.08944552],\n",
              "       [ 0.25879121, -0.12400121,  0.4411748 ,  0.21876435],\n",
              "       [ 1.55766726,  0.34100331,  1.22881951,  0.73603967],\n",
              "       [-0.68584591,  1.50351461, -1.30289562, -1.3330616 ],\n",
              "       [-1.86664232, -0.12400121, -1.52793696, -1.46238043],\n",
              "       [ 0.61303014, -0.82150798,  0.83499716,  0.8653585 ],\n",
              "       [-0.21352735, -0.12400121,  0.21613346, -0.03987331],\n",
              "       [-0.56776627,  0.80600783, -1.19037495, -1.3330616 ],\n",
              "       [-0.21352735,  3.13103043, -1.30289562, -1.07442394],\n",
              "       [ 1.20342834,  0.10850105,  0.60995581,  0.34808318],\n",
              "       [-1.5124034 ,  0.10850105, -1.30289562, -1.3330616 ],\n",
              "       [ 0.02263193, -0.12400121,  0.72247648,  0.73603967],\n",
              "       [-0.9220052 , -1.2865125 , -0.45899058, -0.16919214],\n",
              "       [-1.5124034 ,  0.80600783, -1.35915595, -1.20374277],\n",
              "       [ 0.37687085, -1.98401928,  0.38491447,  0.34808318],\n",
              "       [ 1.55766726,  1.27101235,  1.28507985,  1.64127148],\n",
              "       [-0.21352735, -0.35650346,  0.21613346,  0.08944552],\n",
              "       [-1.27624412, -0.12400121, -1.35915595, -1.46238043],\n",
              "       [ 1.43958762, -0.12400121,  1.17255917,  1.12399616],\n",
              "       [ 1.20342834,  0.34100331,  1.0600385 ,  1.38263382],\n",
              "       [ 0.73110978, -0.12400121,  1.11629884,  1.25331499],\n",
              "       [ 0.61303014, -0.58900572,  1.00377816,  1.12399616],\n",
              "       [-0.9220052 ,  1.73601687, -1.24663528, -1.3330616 ],\n",
              "       [-1.27624412,  0.80600783, -1.24663528, -1.3330616 ],\n",
              "       [ 0.73110978,  0.34100331,  0.72247648,  0.99467733],\n",
              "       [ 0.96726906,  0.57350557,  1.0600385 ,  1.12399616],\n",
              "       [-1.63048304, -1.75151702, -1.41541629, -1.20374277],\n",
              "       [ 0.37687085,  0.80600783,  0.89125749,  1.38263382],\n",
              "       [-1.15816448, -0.12400121, -1.35915595, -1.3330616 ],\n",
              "       [-0.21352735, -1.2865125 ,  0.66621615,  0.99467733],\n",
              "       [ 1.20342834,  0.10850105,  0.89125749,  1.12399616],\n",
              "       [-1.74856268,  0.34100331, -1.41541629, -1.3330616 ],\n",
              "       [-1.04008484,  1.27101235, -1.35915595, -1.3330616 ],\n",
              "       [ 1.55766726, -0.12400121,  1.11629884,  0.47740201],\n",
              "       [-0.9220052 ,  1.03851009, -1.35915595, -1.20374277],\n",
              "       [-1.74856268, -0.12400121, -1.41541629, -1.3330616 ],\n",
              "       [-0.56776627,  1.96851913, -1.19037495, -1.07442394],\n",
              "       [-0.44968663, -1.75151702,  0.10361279,  0.08944552],\n",
              "       [ 1.0853487 ,  0.34100331,  1.17255917,  1.38263382],\n",
              "       [ 2.02998583, -0.12400121,  1.56638153,  1.12399616],\n",
              "       [-0.9220052 ,  1.03851009, -1.35915595, -1.3330616 ],\n",
              "       [-1.15816448,  0.10850105, -1.30289562, -1.46238043],\n",
              "       [-0.80392556,  0.80600783, -1.35915595, -1.3330616 ],\n",
              "       [-0.21352735, -0.58900572,  0.38491447,  0.08944552],\n",
              "       [ 0.84918942, -0.12400121,  0.32865413,  0.21876435],\n",
              "       [-1.04008484,  0.34100331, -1.47167663, -1.3330616 ],\n",
              "       [-0.9220052 ,  0.57350557, -1.19037495, -0.94510511],\n",
              "       [ 0.61303014, -0.35650346,  0.27239379,  0.08944552],\n",
              "       [-0.56776627,  0.80600783, -1.30289562, -1.07442394],\n",
              "       [ 2.14806547, -1.05401024,  1.73516253,  1.38263382],\n",
              "       [-1.15816448, -1.51901476, -0.29020957, -0.29851096],\n",
              "       [ 2.38422475,  1.73601687,  1.45386085,  0.99467733],\n",
              "       [ 0.96726906,  0.10850105,  0.32865413,  0.21876435],\n",
              "       [-0.80392556,  2.43352365, -1.30289562, -1.46238043],\n",
              "       [ 0.14071157, -0.12400121,  0.55369548,  0.73603967],\n",
              "       [-0.09544771,  2.20102139, -1.47167663, -1.3330616 ],\n",
              "       [ 2.14806547, -0.58900572,  1.62264186,  0.99467733],\n",
              "       [-0.9220052 ,  1.73601687, -1.30289562, -1.20374277],\n",
              "       [-1.39432376,  0.34100331, -1.24663528, -1.3330616 ],\n",
              "       [ 1.79382654, -0.58900572,  1.28507985,  0.8653585 ],\n",
              "       [-1.04008484,  0.57350557, -1.35915595, -1.3330616 ],\n",
              "       [ 0.49495049,  0.80600783,  1.00377816,  1.51195265],\n",
              "       [-0.21352735, -0.58900572,  0.15987312,  0.08944552],\n",
              "       [-0.09544771, -0.82150798,  0.04735245, -0.03987331],\n",
              "       [-0.21352735, -1.05401024, -0.1776889 , -0.29851096],\n",
              "       [ 0.61303014,  0.34100331,  0.83499716,  1.38263382],\n",
              "       [ 0.96726906, -0.12400121,  0.77873682,  1.38263382],\n",
              "       [ 0.49495049, -1.2865125 ,  0.60995581,  0.34808318],\n",
              "       [ 0.96726906, -0.12400121,  0.66621615,  0.60672084],\n",
              "       [-1.04008484, -0.12400121, -1.24663528, -1.3330616 ],\n",
              "       [-0.44968663, -1.51901476, -0.06516822, -0.29851096],\n",
              "       [ 0.96726906,  0.10850105,  1.00377816,  1.51195265],\n",
              "       [-0.09544771, -0.82150798,  0.72247648,  0.8653585 ],\n",
              "       [-0.9220052 ,  0.80600783, -1.30289562, -1.3330616 ],\n",
              "       [ 0.84918942, -0.35650346,  0.4411748 ,  0.08944552],\n",
              "       [-0.33160699, -0.12400121,  0.15987312,  0.08944552],\n",
              "       [ 0.02263193,  0.34100331,  0.55369548,  0.73603967],\n",
              "       [ 0.49495049, -1.75151702,  0.32865413,  0.08944552],\n",
              "       [-0.44968663,  1.03851009, -1.41541629, -1.3330616 ],\n",
              "       [-0.9220052 ,  1.50351461, -1.30289562, -1.07442394],\n",
              "       [-1.15816448,  0.10850105, -1.30289562, -1.46238043],\n",
              "       [ 0.49495049, -0.35650346,  1.00377816,  0.73603967],\n",
              "       [-0.09544771, -0.82150798,  0.15987312, -0.29851096],\n",
              "       [ 2.14806547,  1.73601687,  1.62264186,  1.25331499],\n",
              "       [-1.5124034 ,  0.34100331, -1.35915595, -1.3330616 ]])"
            ]
          },
          "execution_count": 21,
          "metadata": {},
          "output_type": "execute_result"
        }
      ]
    },
    {
      "cell_type": "code",
      "metadata": {
        "id": "P2LCiMNDYXU_"
      },
      "source": [
        "# Step 6: Applying PCA\n",
        "# It is only a matter of three lines of code to perform PCA using Python's Scikit-Learn library. \n",
        "# The PCA class is used for this purpose. PCA depends only upon the feature set and not the label data. \n",
        "# Therefore, PCA can be considered as an unsupervised machine learning technique.\n",
        "# Performing PCA using Scikit-Learn is a two-step process:\n",
        "# Initialize the PCA class by passing the number of components to the constructor.\n",
        "# Call the fit and then transform methods by passing the feature set to these methods. \n",
        "# The transform method returns the specified number of principal components.\n",
        "# Let's take a look at the following code. In the code above, we create a PCA object named pca. \n",
        "# We did not specify the number of components in the constructor. \n",
        "# Hence, all four of the features in the feature set will be returned for both the training and test sets.\n",
        "# \n",
        "from sklearn.decomposition import PCA\n",
        "\n",
        "pca = PCA()\n",
        "X_train = pca.fit_transform(X_train)\n",
        "X_test = pca.transform(X_test)"
      ],
      "execution_count": null,
      "outputs": []
    },
    {
      "cell_type": "code",
      "metadata": {
        "colab": {
          "base_uri": "https://localhost:8080/"
        },
        "id": "4oJFE2e9Ym7i",
        "outputId": "0c3dd520-28b9-41d5-8e55-3813cb369170"
      },
      "source": [
        "# Step 7: Explained Variance Ratio\n",
        "# The PCA class contains explained_variance_ratio_ which returns the variance caused by each of the principal components. \n",
        "# We execute the following line of code to find the \"explained variance ratio\".\n",
        "# \n",
        "explained_variance = pca.explained_variance_ratio_\n",
        "\n",
        "# The explained_variance variable is now a float type array which contains variance ratios for each principal component. \n",
        "# The values for the explained_variance variable looks like what is shown in the output. \n",
        "# It can be seen that first principal component is responsible for 72.22% variance. \n",
        "# Similarly, the second principal component causes 23.9% variance in the dataset. \n",
        "# Collectively we can say that (72.22 + 23.9) 96.21% percent of the classification information contained \n",
        "# in the feature set is captured by the first two principal components.\n",
        "explained_variance"
      ],
      "execution_count": null,
      "outputs": [
        {
          "data": {
            "text/plain": [
              "array([0.72226528, 0.23974795, 0.03338117, 0.0046056 ])"
            ]
          },
          "execution_count": 23,
          "metadata": {},
          "output_type": "execute_result"
        }
      ]
    },
    {
      "cell_type": "code",
      "metadata": {
        "id": "jg-1BukkY5DW"
      },
      "source": [
        "# Step 8: Using 1 Principal Component\n",
        "# Let's first try to use 1 principal component to train our algorithm. To do so, execute the following code:\n",
        "# \n",
        "from sklearn.decomposition import PCA\n",
        "\n",
        "pca = PCA(n_components=1)\n",
        "X_train = pca.fit_transform(X_train)\n",
        "X_test = pca.transform(X_test)"
      ],
      "execution_count": null,
      "outputs": []
    },
    {
      "cell_type": "code",
      "metadata": {
        "id": "iGFiEEaVZWug"
      },
      "source": [
        "# Step 9: Training and Making Predictions\n",
        "# In this case we'll use random forest classification for making the predictions.\n",
        "# \n",
        "from sklearn.ensemble import RandomForestClassifier\n",
        "\n",
        "classifier = RandomForestClassifier(max_depth=2, random_state=0)\n",
        "classifier.fit(X_train, y_train)\n",
        "\n",
        "# Predicting the Test set results\n",
        "y_pred = classifier.predict(X_test)"
      ],
      "execution_count": null,
      "outputs": []
    },
    {
      "cell_type": "code",
      "metadata": {
        "colab": {
          "base_uri": "https://localhost:8080/"
        },
        "id": "2c5lgRH0Zd-B",
        "outputId": "8a0e6c58-0813-46c6-aef6-d7539ea96924"
      },
      "source": [
        "# Step 10: Performance Evaluation\n",
        "# \n",
        "from sklearn.metrics import confusion_matrix\n",
        "from sklearn.metrics import accuracy_score\n",
        "\n",
        "cm = confusion_matrix(y_test, y_pred)\n",
        "print(cm)\n",
        "print('Accuracy' , accuracy_score(y_test, y_pred))\n",
        "\n",
        "# Noting that from the output that with only one feature, \n",
        "# the random forest algorithm is able to correctly predict 28 out of 30 instances, \n",
        "# resulting in 93.33% accuracy."
      ],
      "execution_count": null,
      "outputs": [
        {
          "name": "stdout",
          "output_type": "stream",
          "text": [
            "[[11  0  0]\n",
            " [ 0 12  1]\n",
            " [ 0  1  5]]\n",
            "Accuracy 0.9333333333333333\n"
          ]
        }
      ]
    },
    {
      "cell_type": "code",
      "metadata": {
        "id": "rDxxofjtaLWX"
      },
      "source": [
        "# Step 11: Results with 2 Principal Components\n",
        "# Now let's try to evaluate classification performance of the random forest algorithm \n",
        "# with 2 principal components. \n",
        "#\n",
        "from sklearn.decomposition import PCA\n",
        "\n",
        "pca = PCA(n_components=1)\n",
        "X_train = pca.fit_transform(X_train)\n",
        "X_test = pca.transform(X_test)\n",
        "\n",
        "#principalComponents = pca.fit_transform(x)\n",
        "#principalDf = pd.DataFrame(data = principalComponents\n",
        " #            , columns = ['principal component 1', 'principal component 2'])\n",
        "# Here the number of components for PCA has been set to 2. \n",
        "# The classification results with 2 components are as shown in the output.\n",
        "# With two principal components the classification accuracy decreases to 83.33% compared to 93.33% for 1 component."
      ],
      "execution_count": null,
      "outputs": []
    },
    {
      "cell_type": "code",
      "metadata": {
        "colab": {
          "base_uri": "https://localhost:8080/"
        },
        "id": "fwWE4FhbadPq",
        "outputId": "9009c71c-862b-4584-ea15-e46f9b3f5de0"
      },
      "source": [
        "# Step 12: Results with 2 Principal Components\n",
        "# Lets now write code to evaluate clasification performance of the \n",
        "# random forest algorithm with 3 principal components.\n",
        "X_train, X_test, y_train, y_test = train_test_split(X, y, test_size=0.2, random_state=0)\n",
        "\n",
        "sc = StandardScaler()\n",
        "X_train = sc.fit_transform(X_train)\n",
        "X_test = sc.transform(X_test)\n",
        "\n",
        "pca = PCA(n_components=3)\n",
        "X_train = pca.fit_transform(X_train)\n",
        "X_test = pca.transform(X_test)\n",
        "\n",
        "# With three principal components the classification accuracy should again increase to 93.33%\n",
        "classifier = RandomForestClassifier(max_depth=2, random_state=0)\n",
        "classifier.fit(X_train, y_train)\n"
      ],
      "execution_count": null,
      "outputs": [
        {
          "data": {
            "text/plain": [
              "RandomForestClassifier(bootstrap=True, ccp_alpha=0.0, class_weight=None,\n",
              "                       criterion='gini', max_depth=2, max_features='auto',\n",
              "                       max_leaf_nodes=None, max_samples=None,\n",
              "                       min_impurity_decrease=0.0, min_impurity_split=None,\n",
              "                       min_samples_leaf=1, min_samples_split=2,\n",
              "                       min_weight_fraction_leaf=0.0, n_estimators=100,\n",
              "                       n_jobs=None, oob_score=False, random_state=0, verbose=0,\n",
              "                       warm_start=False)"
            ]
          },
          "execution_count": 28,
          "metadata": {},
          "output_type": "execute_result"
        }
      ]
    },
    {
      "cell_type": "code",
      "metadata": {
        "colab": {
          "base_uri": "https://localhost:8080/"
        },
        "id": "fSVnSt7_wfAo",
        "outputId": "fbb73772-a7c4-4673-e3df-a4b723ce97fc"
      },
      "source": [
        "# Predicting the Test set results\n",
        "y_pred = classifier.predict(X_test)\n",
        "\n",
        "cm = confusion_matrix(y_test, y_pred)\n",
        "print(cm)\n",
        "print('Accuracy' , accuracy_score(y_test, y_pred))"
      ],
      "execution_count": null,
      "outputs": [
        {
          "name": "stdout",
          "output_type": "stream",
          "text": [
            "[[11  0  0]\n",
            " [ 0  8  5]\n",
            " [ 0  1  5]]\n",
            "Accuracy 0.8\n"
          ]
        }
      ]
    },
    {
      "cell_type": "code",
      "metadata": {
        "colab": {
          "base_uri": "https://localhost:8080/",
          "height": 129
        },
        "id": "FknOrjzWbOTa",
        "outputId": "6ba810ba-72a7-4cf1-fb00-44ad76073ddf"
      },
      "source": [
        "# Step 13: Results with Full Feature Set\n",
        "# Let's try to find the results with full feature set. \n",
        "# To do so, we simply remove the PCA part from the script that we wrote above\n",
        "# \n",
        "OUR CODE GOES HERE\n",
        "\n",
        "# The accuracy received with full feature set should also be 93.33%."
      ],
      "execution_count": null,
      "outputs": [
        {
          "ename": "SyntaxError",
          "evalue": "ignored",
          "output_type": "error",
          "traceback": [
            "\u001b[0;36m  File \u001b[0;32m\"<ipython-input-30-682d32066774>\"\u001b[0;36m, line \u001b[0;32m5\u001b[0m\n\u001b[0;31m    OUR CODE GOES HERE\u001b[0m\n\u001b[0m           ^\u001b[0m\n\u001b[0;31mSyntaxError\u001b[0m\u001b[0;31m:\u001b[0m invalid syntax\n"
          ]
        }
      ]
    },
    {
      "cell_type": "markdown",
      "metadata": {
        "id": "LZUzM3fhbsG_"
      },
      "source": [
        "From the above experimentation we achieved optimal level of accuracy while significantly reducing the number of features in the dataset. We saw that accuracy achieved with only 1 principal component is equal to the accuracy achieved with will feature set i.e. 93.33%. It is also pertinent to mention that the accuracy of a classifier doesn't necessarily improve with increased number of principal components. From the results we can see that the accuracy achieved with one principal component (93.33%) was greater than the one achieved with two principal components (83.33%).\n",
        "\n"
      ]
    },
    {
      "cell_type": "markdown",
      "metadata": {
        "id": "80nI0zSPbveH"
      },
      "source": [
        "The number of principal components to retain in a feature set depends on several conditions such as storage capacity, training time, performance, etc. In some dataset all the features are contributing equally to the overall variance, therefore all the principal components are crucial to the predictions and none can be ignored. A general rule of thumb is to take number of principal of principal components that contribute to significant variance and ignore those with diminishing variance returns. A good way is to plot the variance against principal components and ignore the principal components with diminishing values as shown in the following graph:"
      ]
    },
    {
      "cell_type": "markdown",
      "metadata": {
        "id": "XW3_wR1Vb03N"
      },
      "source": [
        "### <font color=\"green\">Challenges</font>"
      ]
    },
    {
      "cell_type": "code",
      "metadata": {
        "colab": {
          "background_save": true
        },
        "id": "TahOibrIb3O_",
        "outputId": "6d561868-be39-4fba-ccc6-32469a6e1fee"
      },
      "source": [
        "# Challenge 1\n",
        "# ---\n",
        "# Question: Perform PCA using the given dataset to get a reduced number of variables and examine the results.\n",
        "# Dataset url = http://bit.ly/PokemonDataset\n",
        "# ---\n",
        "# \n",
        "poke_data = pd.read_csv('http://bit.ly/PokemonDataset')\n",
        "print(poke_data['Legendary'].value_counts())\n",
        "print('*'*100)\n",
        "poke_data.head()"
      ],
      "execution_count": null,
      "outputs": [
        {
          "name": "stdout",
          "output_type": "stream",
          "text": [
            "False    735\n",
            "True      65\n",
            "Name: Legendary, dtype: int64\n",
            "****************************************************************************************************\n"
          ]
        },
        {
          "data": {
            "text/html": [
              "<div>\n",
              "<style scoped>\n",
              "    .dataframe tbody tr th:only-of-type {\n",
              "        vertical-align: middle;\n",
              "    }\n",
              "\n",
              "    .dataframe tbody tr th {\n",
              "        vertical-align: top;\n",
              "    }\n",
              "\n",
              "    .dataframe thead th {\n",
              "        text-align: right;\n",
              "    }\n",
              "</style>\n",
              "<table border=\"1\" class=\"dataframe\">\n",
              "  <thead>\n",
              "    <tr style=\"text-align: right;\">\n",
              "      <th></th>\n",
              "      <th>#</th>\n",
              "      <th>Name</th>\n",
              "      <th>Type 1</th>\n",
              "      <th>Type 2</th>\n",
              "      <th>Total</th>\n",
              "      <th>HP</th>\n",
              "      <th>Attack</th>\n",
              "      <th>Defense</th>\n",
              "      <th>Sp. Atk</th>\n",
              "      <th>Sp. Def</th>\n",
              "      <th>Speed</th>\n",
              "      <th>Generation</th>\n",
              "      <th>Legendary</th>\n",
              "    </tr>\n",
              "  </thead>\n",
              "  <tbody>\n",
              "    <tr>\n",
              "      <th>0</th>\n",
              "      <td>1</td>\n",
              "      <td>Bulbasaur</td>\n",
              "      <td>Grass</td>\n",
              "      <td>Poison</td>\n",
              "      <td>318</td>\n",
              "      <td>45</td>\n",
              "      <td>49</td>\n",
              "      <td>49</td>\n",
              "      <td>65</td>\n",
              "      <td>65</td>\n",
              "      <td>45</td>\n",
              "      <td>1</td>\n",
              "      <td>False</td>\n",
              "    </tr>\n",
              "    <tr>\n",
              "      <th>1</th>\n",
              "      <td>2</td>\n",
              "      <td>Ivysaur</td>\n",
              "      <td>Grass</td>\n",
              "      <td>Poison</td>\n",
              "      <td>405</td>\n",
              "      <td>60</td>\n",
              "      <td>62</td>\n",
              "      <td>63</td>\n",
              "      <td>80</td>\n",
              "      <td>80</td>\n",
              "      <td>60</td>\n",
              "      <td>1</td>\n",
              "      <td>False</td>\n",
              "    </tr>\n",
              "    <tr>\n",
              "      <th>2</th>\n",
              "      <td>3</td>\n",
              "      <td>Venusaur</td>\n",
              "      <td>Grass</td>\n",
              "      <td>Poison</td>\n",
              "      <td>525</td>\n",
              "      <td>80</td>\n",
              "      <td>82</td>\n",
              "      <td>83</td>\n",
              "      <td>100</td>\n",
              "      <td>100</td>\n",
              "      <td>80</td>\n",
              "      <td>1</td>\n",
              "      <td>False</td>\n",
              "    </tr>\n",
              "    <tr>\n",
              "      <th>3</th>\n",
              "      <td>3</td>\n",
              "      <td>VenusaurMega Venusaur</td>\n",
              "      <td>Grass</td>\n",
              "      <td>Poison</td>\n",
              "      <td>625</td>\n",
              "      <td>80</td>\n",
              "      <td>100</td>\n",
              "      <td>123</td>\n",
              "      <td>122</td>\n",
              "      <td>120</td>\n",
              "      <td>80</td>\n",
              "      <td>1</td>\n",
              "      <td>False</td>\n",
              "    </tr>\n",
              "    <tr>\n",
              "      <th>4</th>\n",
              "      <td>4</td>\n",
              "      <td>Charmander</td>\n",
              "      <td>Fire</td>\n",
              "      <td>NaN</td>\n",
              "      <td>309</td>\n",
              "      <td>39</td>\n",
              "      <td>52</td>\n",
              "      <td>43</td>\n",
              "      <td>60</td>\n",
              "      <td>50</td>\n",
              "      <td>65</td>\n",
              "      <td>1</td>\n",
              "      <td>False</td>\n",
              "    </tr>\n",
              "  </tbody>\n",
              "</table>\n",
              "</div>"
            ],
            "text/plain": [
              "   #                   Name Type 1  ... Speed  Generation  Legendary\n",
              "0  1              Bulbasaur  Grass  ...    45           1      False\n",
              "1  2                Ivysaur  Grass  ...    60           1      False\n",
              "2  3               Venusaur  Grass  ...    80           1      False\n",
              "3  3  VenusaurMega Venusaur  Grass  ...    80           1      False\n",
              "4  4             Charmander   Fire  ...    65           1      False\n",
              "\n",
              "[5 rows x 13 columns]"
            ]
          },
          "execution_count": null,
          "metadata": {},
          "output_type": "execute_result"
        }
      ]
    },
    {
      "cell_type": "code",
      "metadata": {
        "id": "e9miRU2Pzrdh"
      },
      "source": [
        "# leg_enc = {'Legendary':{'False': 0, 'True':1}}\n",
        "# poke_data.replace(leg_enc, inplace=True)\n",
        "# poke_data.head()\n",
        "poke_data['Legendary']=poke_data['Legendary'].astype('int')\n",
        "poke_data.head()"
      ],
      "execution_count": null,
      "outputs": []
    },
    {
      "cell_type": "code",
      "metadata": {
        "id": "y6pSIIrGpUbh"
      },
      "source": [
        "# Challenge 2\n",
        "# ---\n",
        "# Question: Apply Principal component analysis on the given dataset. \n",
        "# Then apply random forest regressor on old and the transformed datasets and compare them\n",
        "# ---\n",
        "# Dataset url = \n",
        "# Dataset info:\n",
        "# We want to be able to predict how crowded the gym will be in the future \n",
        "# by measuring how many people were in the gym once every 10 minutes over the last year.\n",
        "# Label:\n",
        "# Number of people\n",
        "# Features:\n",
        "# date (string; datetime of data)\n",
        "# timestamp (int; number of seconds since beginning of day)\n",
        "# day_of_week (int; 0 [monday] - 6 [sunday])\n",
        "# is_weekend (int; 0 or 1) [boolean, if 1, it's either saturday or sunday, otherwise 0]\n",
        "# is_holiday (int; 0 or 1) [boolean, if 1 it's a federal holiday, 0 otherwise]\n",
        "# temperature (float; degrees fahrenheit)\n",
        "# is_start_of_semester (int; 0 or 1) [boolean, if 1 it's the beginning of a school semester, 0 otherwise]\n",
        "# month (int; 1 [jan] - 12 [dec])\n",
        "# hour (int; 0 - 23)\n",
        "# ---\n",
        "# \n",
        "OUR CODE GOES HERE"
      ],
      "execution_count": null,
      "outputs": []
    },
    {
      "cell_type": "code",
      "metadata": {
        "id": "U7lobmho2QdK"
      },
      "source": [
        "# Challenge 3:\n",
        "# ---\n",
        "# Question: Perform PCA on the following dataset\n",
        "# ---\n",
        "# Dataset url = http://bit.ly/WineDataset2 \n",
        "# ---\n",
        "# \n",
        "wine=pd.read_csv('http://bit.ly/WineDataset2')\n",
        "wine.head()\n",
        "x=wine.drop('Customer_Segment',1)\n",
        "y=wine['Customer_Segment']"
      ],
      "execution_count": null,
      "outputs": []
    },
    {
      "cell_type": "code",
      "metadata": {
        "id": "6-CjLQV-MJou"
      },
      "source": [
        "# step 4:Splitting the dataset into the Training set and Test set\n",
        "\n",
        "#\n",
        "from sklearn.model_selection import train_test_split\n",
        "\n",
        "x_train, x_test, y_train, y_test = train_test_split(x, y, test_size=0.2, random_state=0)"
      ],
      "execution_count": null,
      "outputs": []
    },
    {
      "cell_type": "code",
      "metadata": {
        "id": "UPZr6AeNMase"
      },
      "source": [
        "# Step 5: Normalization\n",
        "# As mentioned earlier, PCA performs best with a normalized feature set. \n",
        "# We will perform standard scalar normalization to normalize our feature set. \n",
        "\n",
        "# \n",
        "from sklearn.preprocessing import StandardScaler\n",
        "\n",
        "sc = StandardScaler()\n",
        "x_train = sc.fit_transform(x_train)\n",
        "x_test = sc.transform(x_test)\n",
        "x_train"
      ],
      "execution_count": null,
      "outputs": []
    },
    {
      "cell_type": "code",
      "metadata": {
        "id": "F4oP0aTLMxbP"
      },
      "source": [
        "#step 6:applying PCA\n",
        "from sklearn.decomposition import PCA\n",
        "\n",
        "pca = PCA()\n",
        "x_train = pca.fit_transform(x_train)\n",
        "x_test = pca.transform(x_test)"
      ],
      "execution_count": null,
      "outputs": []
    },
    {
      "cell_type": "code",
      "metadata": {
        "id": "4IfwQSjXNNFx"
      },
      "source": [
        "# Step 7: Explained Variance Ratio\n",
        "# The PCA class contains explained_variance_ratio_ which returns the variance caused by each of the principal components. \n",
        "# We execute the following line of code to find the \"explained variance ratio\".\n",
        "# \n",
        "explained_variance = pca.explained_variance_ratio_\n",
        "explained_variance"
      ],
      "execution_count": null,
      "outputs": []
    },
    {
      "cell_type": "code",
      "metadata": {
        "id": "NRR_qe_jNiI2"
      },
      "source": [
        "# Step 8: Using 1 Principal Component\n",
        "# Let's first try to use 1 principal component to train our algorithm. To do so, execute the following code:\n",
        "# \n",
        "from sklearn.decomposition import PCA\n",
        "\n",
        "pca = PCA(n_components=1)\n",
        "x_train = pca.fit_transform(x_train)\n",
        "x_test = pca.transform(x_test)"
      ],
      "execution_count": null,
      "outputs": []
    },
    {
      "cell_type": "code",
      "metadata": {
        "id": "qR3GwNvBNwjZ"
      },
      "source": [
        "# Step 9: Training and Making Predictions\n",
        "# In this case we'll use random forest classification for making the predictions.\n",
        "# \n",
        "from sklearn.ensemble import RandomForestClassifier\n",
        "\n",
        "classifier = RandomForestClassifier(max_depth=2, random_state=0)\n",
        "classifier.fit(x_train, y_train)\n",
        "\n",
        "# Predicting the Test set results\n",
        "y_pred = classifier.predict(x_test)"
      ],
      "execution_count": null,
      "outputs": []
    },
    {
      "cell_type": "code",
      "metadata": {
        "id": "He0mqGh_OGzo"
      },
      "source": [
        "# Step 10: Performance Evaluation\n",
        "# \n",
        "from sklearn.metrics import confusion_matrix\n",
        "from sklearn.metrics import accuracy_score\n",
        "\n",
        "cm = confusion_matrix(y_test, y_pred)\n",
        "print(cm)\n",
        "print('Accuracy' , accuracy_score(y_test, y_pred))\n",
        "\n",
        "# Noting that from the output that with only one feature, \n",
        "# the random forest algorithm is able to correctly predict 28 out of 30 instances, \n",
        "# resulting in 77.78% accuracy."
      ],
      "execution_count": null,
      "outputs": []
    },
    {
      "cell_type": "code",
      "metadata": {
        "id": "iL43kcnCOapi"
      },
      "source": [
        "# Step 11: Using 2 Principal Components\n",
        "# \n",
        "from sklearn.decomposition import PCA\n",
        "\n",
        "pca = PCA(n_components=2)\n",
        "x_train = pca.fit_transform(x_train)\n",
        "x_test = pca.transform(x_test)"
      ],
      "execution_count": null,
      "outputs": []
    },
    {
      "cell_type": "code",
      "metadata": {
        "id": "3C4y9clbOv5P"
      },
      "source": [
        "# Step 12: Results with 2 Principal Components\n",
        "# Lets now write code to evaluate clasification performance of the \n",
        "# random forest algorithm with 3 principal components.\n",
        "x_train, x_test, y_train, y_test = train_test_split(x, y, test_size=0.2, random_state=0)\n",
        "\n",
        "sc = StandardScaler()\n",
        "x_train = sc.fit_transform(x_train)\n",
        "x_test = sc.transform(x_test)\n",
        "\n",
        "pca = PCA(n_components=3)\n",
        "x_train = pca.fit_transform(x_train)\n",
        "x_test = pca.transform(x_test)\n",
        "\n",
        "# With three principal components the classification accuracy should again increase to 93.33%\n",
        "classifier = RandomForestClassifier(max_depth=2, random_state=0)\n",
        "classifier.fit(x_train, y_train)"
      ],
      "execution_count": null,
      "outputs": []
    }
  ]
}